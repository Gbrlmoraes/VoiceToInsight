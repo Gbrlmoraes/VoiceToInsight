{
 "cells": [
  {
   "cell_type": "code",
   "execution_count": 3,
   "metadata": {},
   "outputs": [],
   "source": [
    "from openai import OpenAI\n",
    "import os\n",
    "client = OpenAI(api_key = os.environ['gbrl_api_key'])"
   ]
  },
  {
   "cell_type": "code",
   "execution_count": 5,
   "metadata": {},
   "outputs": [],
   "source": [
    "with open(r'J:\\Estudo\\Projetos\\VoiceToInsight\\data\\complete_texts\\text_2963847.txt') as f:\n",
    "    texto = f.read()"
   ]
  },
  {
   "cell_type": "code",
   "execution_count": 53,
   "metadata": {},
   "outputs": [],
   "source": [
    "prompt = f\"\"\"\n",
    "  - Será passado um texto capturado de uma ligação sobre uma pesquisa de NPS dos produtos da empresa TOTVS.\n",
    "  - Inicialmente você deve informar qual empresa o atendente da TOTVS tentou entrar em contato, no caso o cliente.\n",
    "  - Em seguida, deve pular uma linha e dizer se foi possível realizar o atendimento e coletar as notas de NPS.\n",
    "  - Em caso negativo, deve pular uma linha e informar brevemente o motivo de não ter sido possível realizar o atendimento.\n",
    "  - Em caso afirmativo, deve pular uma linha e informar os valores das notas de cada categoria junto com o nome da categoria em formato json.\n",
    "  - Os nomes das colunas devem ser simples e diretos.\n",
    "  - No caso de não haver nota, defina a nota como 'None'.\n",
    "  - O nome das categorias deve seguir o padrão: nps_ seguido do nome da categoria.\n",
    "  - Segue o texto que deve ser analisado: {texto}\n",
    "\"\"\" \n",
    "\n",
    "response = client.completions.create(\n",
    "  model = \"gpt-3.5-turbo-instruct\",\n",
    "  prompt = prompt,\n",
    "  temperature = 0,\n",
    "  max_tokens = 200,\n",
    "  top_p = 1,\n",
    "  frequency_penalty = 0,\n",
    "  presence_penalty = 0\n",
    ")"
   ]
  },
  {
   "cell_type": "code",
   "execution_count": 54,
   "metadata": {},
   "outputs": [
    {
     "name": "stdout",
     "output_type": "stream",
     "text": [
      "  - Brico Bread\n",
      "  - Foi possível realizar o atendimento e coletar as notas de NPS.\n",
      "  - {\n",
      "    \"nps_atendimento_executivo_vendas\": \"None\",\n",
      "    \"nps_satisfacao_custo\": \"None\",\n",
      "    \"nps_implantacao\": \"8\",\n",
      "    \"nps_entrega_beneficio\": \"None\",\n",
      "    \"nps_ultima_atualizacao\": \"9\",\n",
      "    \"nps_totos_ibirapuera\": \"None\"\n",
      "  }\n"
     ]
    }
   ],
   "source": [
    "print(response.choices[0].text)"
   ]
  }
 ],
 "metadata": {
  "kernelspec": {
   "display_name": ".venv",
   "language": "python",
   "name": "python3"
  },
  "language_info": {
   "codemirror_mode": {
    "name": "ipython",
    "version": 3
   },
   "file_extension": ".py",
   "mimetype": "text/x-python",
   "name": "python",
   "nbconvert_exporter": "python",
   "pygments_lexer": "ipython3",
   "version": "3.11.3"
  }
 },
 "nbformat": 4,
 "nbformat_minor": 2
}
