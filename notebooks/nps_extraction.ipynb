{
 "cells": [
  {
   "cell_type": "code",
   "execution_count": 3,
   "metadata": {},
   "outputs": [],
   "source": [
    "from openai import OpenAI\n",
    "import os\n",
    "\n",
    "os.chdir(os.getcwd().replace('notebooks',''))\n",
    "client = OpenAI(api_key = os.environ['GBRL_API_KEY'])"
   ]
  },
  {
   "cell_type": "code",
   "execution_count": 4,
   "metadata": {},
   "outputs": [],
   "source": [
    "with open(r'data/complete_texts/text_2963847.txt') as f:\n",
    "    texto = f.read()"
   ]
  },
  {
   "cell_type": "code",
   "execution_count": 5,
   "metadata": {},
   "outputs": [
    {
     "name": "stdout",
     "output_type": "stream",
     "text": [
      "  \n",
      "  {\n",
      "    \"empresa\": \"Brico Bread\",\n",
      "    \"atendimento\": \"Sim\",\n",
      "    \"nps_atendimento\": \"8\",\n",
      "    \"nps_suporte_tecnico\": \"\",\n",
      "    \"nps_comercial_financeiro\": \"\",\n",
      "    \"nps_recomendacao\": \"\",\n",
      "    \"nps_satisfacao\": \"\",\n",
      "    \"nps_custo\": \"\",\n",
      "    \"nps_unidade\": \"\",\n",
      "    \"nps_rh\": \"8.5\",\n",
      "    \"nps_outros\": \"\"\n",
      "  }\n"
     ]
    }
   ],
   "source": [
    "prompt = f\"\"\"\n",
    "  Você receberá um texto capturado de uma ligação sobre uma pesquisa de NPS dos produtos da empresa TOTVS. Sua tarefa é analisar esse texto e produzir um JSON conforme as seguintes regras:\n",
    "\n",
    "  1. Capture o nome da empresa para a qual o atendente da TOTVS ligou para fazer a pesquisa.\n",
    "  2. Indique se foi possível realizar o atendimento com \"Sim\" ou \"Não\".\n",
    "  3. Caso o atendimento tenha sido realizado, identifique e informe as notas de NPS atribuídas pelo cliente para cada categoria mencionada.\n",
    "  5. Você deve capturar as notas das seguintes categorias de NPS (nps_atendimento, nps_suporte_tecnico, nps_comercial_financeiro, nps_recomendacao, nps_satisfacao, nps_custo, nps_unidade, nps_rh, nps_outros).\n",
    "  6. No caso de não haverem notas para essas categorias, coloque uma string vazia.]\n",
    "  7. No caso de haver mais de uma nota que se encaixe na categoria, faça uma média.\n",
    "  8. O JSON deve ser montado em português.\n",
    "  \n",
    "  Segue o texto que deve ser analisado: {texto}\n",
    "\"\"\" \n",
    "\n",
    "response = client.completions.create(\n",
    "  model = \"gpt-3.5-turbo-instruct\",\n",
    "  prompt = prompt,\n",
    "  temperature = 0,\n",
    "  max_tokens = 500,\n",
    "  top_p = 1,\n",
    "  frequency_penalty = 0,\n",
    "  presence_penalty = 0\n",
    ")\n",
    "\n",
    "print(response.choices[0].text)"
   ]
  }
 ],
 "metadata": {
  "kernelspec": {
   "display_name": ".venv",
   "language": "python",
   "name": "python3"
  },
  "language_info": {
   "codemirror_mode": {
    "name": "ipython",
    "version": 3
   },
   "file_extension": ".py",
   "mimetype": "text/x-python",
   "name": "python",
   "nbconvert_exporter": "python",
   "pygments_lexer": "ipython3",
   "version": "3.12.3"
  }
 },
 "nbformat": 4,
 "nbformat_minor": 2
}
