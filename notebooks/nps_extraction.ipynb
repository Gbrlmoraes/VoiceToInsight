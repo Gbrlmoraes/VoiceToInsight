{
 "cells": [
  {
   "cell_type": "code",
   "execution_count": 3,
   "metadata": {},
   "outputs": [],
   "source": [
    "from openai import OpenAI\n",
    "import os\n",
    "client = OpenAI(api_key = os.environ['gbrl_api_key'])"
   ]
  },
  {
   "cell_type": "code",
   "execution_count": 55,
   "metadata": {},
   "outputs": [],
   "source": [
    "with open(r'J:\\Estudo\\Projetos\\VoiceToInsight\\data\\complete_texts\\text_2963847.txt') as f:\n",
    "    texto = f.read()"
   ]
  },
  {
   "cell_type": "code",
   "execution_count": 70,
   "metadata": {},
   "outputs": [
    {
     "name": "stdout",
     "output_type": "stream",
     "text": [
      "  {\n",
      "    \"empresa\": \"Brico Bread\",\n",
      "    \"atendimento\": \"Sim\",\n",
      "    \"nps_rh\": \"8\",\n",
      "    \"nps_executivo_de_vendas\": \"Não informado\",\n",
      "    \"nps_custo_dos_produtos\": \"Não informado\",\n",
      "    \"nps_implantacao_do_software\": \"8\",\n",
      "    \"nps_entrega_do_beneficio\": \"Não informado\",\n",
      "    \"nps_ultima_atualizacao_do_software\": \"9\",\n",
      "    \"nps_totos_e_ibirapuera\": \"Não informado\"\n",
      "  }\n"
     ]
    }
   ],
   "source": [
    "prompt = f\"\"\"\n",
    "  Você receberá um texto capturado de uma ligação sobre uma pesquisa de NPS dos produtos da empresa TOTVS. Sua tarefa é analisar esse texto e produzir um JSON conforme as seguintes regras:\n",
    "\n",
    "  1. Capture o nome da empresa para a qual o atendente da TOTVS ligou para fazer a pesquisa.\n",
    "  2. Indique se foi possível realizar o atendimento com \"Sim\" ou \"Não\".\n",
    "  3. Caso o atendimento tenha sido realizado, identifique e informe as notas de NPS atribuídas pelo cliente para cada categoria mencionada.\n",
    "  4. Se o cliente não fornecer uma nota para alguma categoria, defina a nota como \"Não informado\".\n",
    "  5. O nome das categorias de NPS deve seguir o padrão: \"nps_\" seguido do nome da categoria.\n",
    "  6. O JSON deve ser montado em português.\n",
    "  \n",
    "  Segue o texto que deve ser analisado: {texto}\n",
    "\"\"\" \n",
    "\n",
    "response = client.completions.create(\n",
    "  model = \"gpt-3.5-turbo-instruct\",\n",
    "  prompt = prompt,\n",
    "  temperature = 0,\n",
    "  max_tokens = 200,\n",
    "  top_p = 1,\n",
    "  frequency_penalty = 0,\n",
    "  presence_penalty = 0\n",
    ")\n",
    "\n",
    "print(response.choices[0].text)"
   ]
  }
 ],
 "metadata": {
  "kernelspec": {
   "display_name": ".venv",
   "language": "python",
   "name": "python3"
  },
  "language_info": {
   "codemirror_mode": {
    "name": "ipython",
    "version": 3
   },
   "file_extension": ".py",
   "mimetype": "text/x-python",
   "name": "python",
   "nbconvert_exporter": "python",
   "pygments_lexer": "ipython3",
   "version": "3.11.3"
  }
 },
 "nbformat": 4,
 "nbformat_minor": 2
}
